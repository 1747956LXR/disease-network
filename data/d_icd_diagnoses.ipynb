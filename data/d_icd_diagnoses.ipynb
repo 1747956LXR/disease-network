{
 "cells": [
  {
   "cell_type": "code",
   "execution_count": 3,
   "metadata": {},
   "outputs": [],
   "source": [
    "import pandas as pd \n",
    "data_path = './mimic-iii/'\n",
    "d_icd_diagnoses = pd.DataFrame(pd.read_csv(data_path + 'd_icd_diagnoses.csv'))"
   ]
  },
  {
   "cell_type": "code",
   "execution_count": 22,
   "metadata": {},
   "outputs": [
    {
     "data": {
      "text/html": [
       "<div>\n",
       "<style scoped>\n",
       "    .dataframe tbody tr th:only-of-type {\n",
       "        vertical-align: middle;\n",
       "    }\n",
       "\n",
       "    .dataframe tbody tr th {\n",
       "        vertical-align: top;\n",
       "    }\n",
       "\n",
       "    .dataframe thead th {\n",
       "        text-align: right;\n",
       "    }\n",
       "</style>\n",
       "<table border=\"1\" class=\"dataframe\">\n",
       "  <thead>\n",
       "    <tr style=\"text-align: right;\">\n",
       "      <th></th>\n",
       "      <th>row_id</th>\n",
       "      <th>icd9_code</th>\n",
       "      <th>short_title</th>\n",
       "      <th>long_title</th>\n",
       "      <th>mimic_id</th>\n",
       "    </tr>\n",
       "  </thead>\n",
       "  <tbody>\n",
       "    <tr>\n",
       "      <th>5385</th>\n",
       "      <td>5112</td>\n",
       "      <td>4941</td>\n",
       "      <td>Bronchiectasis w ac exac</td>\n",
       "      <td>Bronchiectasis with acute exacerbation</td>\n",
       "      <td>2001005385</td>\n",
       "    </tr>\n",
       "    <tr>\n",
       "      <th>5386</th>\n",
       "      <td>5113</td>\n",
       "      <td>4950</td>\n",
       "      <td>Farmers' lung</td>\n",
       "      <td>Farmers' lung</td>\n",
       "      <td>2001005386</td>\n",
       "    </tr>\n",
       "  </tbody>\n",
       "</table>\n",
       "</div>"
      ],
      "text/plain": [
       "      row_id icd9_code               short_title  \\\n",
       "5385    5112      4941  Bronchiectasis w ac exac   \n",
       "5386    5113      4950             Farmers' lung   \n",
       "\n",
       "                                  long_title    mimic_id  \n",
       "5385  Bronchiectasis with acute exacerbation  2001005385  \n",
       "5386                           Farmers' lung  2001005386  "
      ]
     },
     "execution_count": 22,
     "metadata": {},
     "output_type": "execute_result"
    }
   ],
   "source": [
    "d_icd_diagnoses[(d_icd_diagnoses[\"icd9_code\"] >= '49400') & (d_icd_diagnoses[\"icd9_code\"] <= '49500')]"
   ]
  }
 ],
 "metadata": {
  "kernelspec": {
   "display_name": "Python 3",
   "language": "python",
   "name": "python3"
  },
  "language_info": {
   "codemirror_mode": {
    "name": "ipython",
    "version": 3
   },
   "file_extension": ".py",
   "mimetype": "text/x-python",
   "name": "python",
   "nbconvert_exporter": "python",
   "pygments_lexer": "ipython3",
   "version": "3.7.1"
  }
 },
 "nbformat": 4,
 "nbformat_minor": 2
}
